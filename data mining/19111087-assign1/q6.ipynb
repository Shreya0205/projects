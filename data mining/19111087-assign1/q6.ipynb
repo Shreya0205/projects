{
 "cells": [
  {
   "cell_type": "code",
   "execution_count": 1,
   "metadata": {},
   "outputs": [],
   "source": [
    "import json\n",
    "import csv \n",
    "import numpy as np"
   ]
  },
  {
   "cell_type": "code",
   "execution_count": 2,
   "metadata": {},
   "outputs": [],
   "source": [
    "with open('mapping.json') as json_data:\n",
    "    mapping = json.load(json_data)"
   ]
  },
  {
   "cell_type": "code",
   "execution_count": 3,
   "metadata": {},
   "outputs": [],
   "source": [
    "def neighbors_creation(file_name, file_name1, file_name2, outfile_name):\n",
    "    \n",
    "    metric_dict = dict()\n",
    "    for dist in mapping.values():\n",
    "        metric_dict[dist]=dict()     \n",
    "    data = open(file_name, 'r') \n",
    "    metric_list = set()\n",
    "    for line in data:\n",
    "        line = line.split(',')\n",
    "        metric_list.add(int(line[1]))\n",
    "        metric_dict[int(line[0])][int(line[1])] = int(line[2])\n",
    "    data.close()\n",
    "    metric_list=list(metric_list)\n",
    "    metric_list.sort()\n",
    "    \n",
    "    neighbor_metric_dict = dict()\n",
    "    for dist in mapping.values():\n",
    "        neighbor_metric_dict[dist]=dict()     \n",
    "    data = open(file_name1, 'r') \n",
    "    neighbor_metric_list = set()\n",
    "    for line in data:\n",
    "        line = line.split(',')\n",
    "        neighbor_metric_list.add(int(line[1]))\n",
    "        neighbor_metric_dict[int(line[0])][int(line[1])] = list()\n",
    "        neighbor_metric_dict[int(line[0])][int(line[1])].append((line[2]))\n",
    "        neighbor_metric_dict[int(line[0])][int(line[1])].append((line[3]))\n",
    "    data.close()\n",
    "    neighbor_metric_list=list(neighbor_metric_list)\n",
    "    neighbor_metric_list.sort()\n",
    "    \n",
    "    \n",
    "    state_metric_dict = dict()\n",
    "    for dist in mapping.values():\n",
    "        state_metric_dict[dist]=dict()\n",
    "    data = open(file_name2, 'r') \n",
    "    state_metric_list = set()\n",
    "    for line in data:\n",
    "        line = line.split(',')\n",
    "        state_metric_list.add(int(line[1]))\n",
    "        state_metric_dict[int(line[0])][int(line[1])] = list()\n",
    "        state_metric_dict[int(line[0])][int(line[1])].append((line[2]))\n",
    "        state_metric_dict[int(line[0])][int(line[1])].append((line[3]))\n",
    "    data.close()\n",
    "    state_metric_list=list(state_metric_list)\n",
    "    state_metric_list.sort()\n",
    "    \n",
    "    \n",
    "    f=open(outfile_name,'a')  \n",
    "    \n",
    "    for district in mapping.keys():\n",
    "        idx = mapping[district]\n",
    "        for metric_num in metric_list:\n",
    "            \n",
    "            dist_case = metric_dict[idx][metric_num]\n",
    "            neighbor_mean_std = neighbor_metric_dict[idx][metric_num]\n",
    "            state_mean_std = state_metric_dict[idx][metric_num]\n",
    "            #print(type(dist_case))\n",
    "            #print((neighbor_mean_std[0]))\n",
    "            #print(float(neighbor_mean_std[0]))\n",
    "            \n",
    "            if float(neighbor_mean_std[1])==0:\n",
    "                zscore_neighbor = np.nan\n",
    "            else:\n",
    "                zscore_neighbor = round((dist_case - float(neighbor_mean_std[0]))/float(neighbor_mean_std[1]),2)\n",
    "            \n",
    "            if float(state_mean_std[1])==0:\n",
    "                zscore_state = np.nan\n",
    "            else:\n",
    "                zscore_state = round((dist_case - float(state_mean_std[0]))/float(state_mean_std[1]),2)\n",
    "            \n",
    "            f.write(str(idx)+\",\"+str(metric_num)+\",\"+str(zscore_neighbor)+\",\"+str(zscore_state)+\"\\n\")\n",
    "\n",
    "    f.close()\n",
    "        "
   ]
  },
  {
   "cell_type": "code",
   "execution_count": 4,
   "metadata": {},
   "outputs": [],
   "source": [
    "neighbors_creation('cases-week.csv','neighbor-week.csv','state-week.csv','zscore-week.csv')\n",
    "neighbors_creation('cases-month.csv','neighbor-month.csv','state-month.csv','zscore-month.csv')\n",
    "neighbors_creation('cases-overall.csv','neighbor-overall.csv','state-overall.csv','zscore-overall.csv')"
   ]
  }
 ],
 "metadata": {
  "kernelspec": {
   "display_name": "Python 3",
   "language": "python",
   "name": "python3"
  },
  "language_info": {
   "codemirror_mode": {
    "name": "ipython",
    "version": 3
   },
   "file_extension": ".py",
   "mimetype": "text/x-python",
   "name": "python",
   "nbconvert_exporter": "python",
   "pygments_lexer": "ipython3",
   "version": "3.7.3"
  }
 },
 "nbformat": 4,
 "nbformat_minor": 4
}
