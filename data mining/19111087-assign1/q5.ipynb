{
 "cells": [
  {
   "cell_type": "code",
   "execution_count": 1,
   "metadata": {},
   "outputs": [],
   "source": [
    "import json\n",
    "import csv \n",
    "import numpy as np"
   ]
  },
  {
   "cell_type": "code",
   "execution_count": 2,
   "metadata": {},
   "outputs": [],
   "source": [
    "\n",
    "with open('mapping.json') as json_data:\n",
    "    mapping = json.load(json_data)\n",
    "    \n",
    "with open('neighbor-districts-modified.json') as json_data:\n",
    "    neighbors = json.load(json_data)\n",
    "    "
   ]
  },
  {
   "cell_type": "code",
   "execution_count": 5,
   "metadata": {},
   "outputs": [],
   "source": [
    "def neighbors_creation(file_name,outfile_name):\n",
    "    \n",
    "    metric_dict = dict()\n",
    "\n",
    "    for dist in mapping.values():\n",
    "        metric_dict[dist]=dict()\n",
    "        \n",
    "    data = open(file_name, 'r') \n",
    "    metric_list = set()\n",
    "    for line in data:\n",
    "        line = line.split(',')\n",
    "        metric_list.add(int(line[1]))\n",
    "        metric_dict[int(line[0])][int(line[1])] = int(line[2])\n",
    "\n",
    "    data.close()\n",
    "\n",
    "    metric_list=list(metric_list)\n",
    "    metric_list.sort()\n",
    "    \n",
    "    \n",
    "    f=open(outfile_name,'a')\n",
    "\n",
    "    \n",
    "    for district in mapping.keys():\n",
    "        \n",
    "        state = district.split(\"_\")[1]\n",
    "        idx = mapping[district]\n",
    "        \n",
    "        for metric_num in metric_list:\n",
    "            \n",
    "            count=[]\n",
    "\n",
    "            for state_dist in mapping.keys():\n",
    "                \n",
    "                other_dist_state = state_dist.split(\"_\")[1]\n",
    "                other_dist_idx = mapping[state_dist]\n",
    "                \n",
    "                if state==other_dist_state and other_dist_idx!=idx:\n",
    "                    \n",
    "                    count.append(metric_dict[other_dist_idx][metric_num])\n",
    "            if len(count)==0:\n",
    "                mean=0\n",
    "                std=0\n",
    "            else:\n",
    "                mean = round(np.mean(count),2)\n",
    "                std = round(np.std(count),2)\n",
    "\n",
    "            f.write(str(idx)+\",\"+str(metric_num)+\",\"+str(mean)+\",\"+str(std)+\"\\n\")\n",
    "\n",
    "    f.close()\n",
    "        "
   ]
  },
  {
   "cell_type": "code",
   "execution_count": 6,
   "metadata": {},
   "outputs": [],
   "source": [
    "neighbors_creation('cases-week.csv','state-week.csv')\n",
    "neighbors_creation('cases-month.csv','state-month.csv')\n",
    "neighbors_creation('cases-overall.csv','state-overall.csv')"
   ]
  }
 ],
 "metadata": {
  "kernelspec": {
   "display_name": "Python 3",
   "language": "python",
   "name": "python3"
  },
  "language_info": {
   "codemirror_mode": {
    "name": "ipython",
    "version": 3
   },
   "file_extension": ".py",
   "mimetype": "text/x-python",
   "name": "python",
   "nbconvert_exporter": "python",
   "pygments_lexer": "ipython3",
   "version": "3.7.3"
  }
 },
 "nbformat": 4,
 "nbformat_minor": 4
}
