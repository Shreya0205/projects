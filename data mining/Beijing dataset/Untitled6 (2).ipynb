{
 "cells": [
  {
   "cell_type": "code",
   "execution_count": 1,
   "metadata": {
    "colab": {
     "base_uri": "https://localhost:8080/"
    },
    "id": "_kPh3iuBFWWc",
    "outputId": "7be0fd3f-7d8b-4b90-be08-514dc762b6c9"
   },
   "outputs": [],
   "source": [
    " \n",
    "import pandas as pd\n",
    "import numpy as np"
   ]
  },
  {
   "cell_type": "code",
   "execution_count": null,
   "metadata": {
    "id": "TWmSybqxB5fB"
   },
   "outputs": [],
   "source": [
    "cd gdrive/MyDrive/DM/Data/Beijing dataset/"
   ]
  },
  {
   "cell_type": "code",
   "execution_count": 6,
   "metadata": {
    "id": "LkSdeJakIxNX"
   },
   "outputs": [],
   "source": [
    "hubs=[71808, 140297, 25230, 70940, 30, 175777, 172973, 70966, 310, 13497, 73665, 197828, 13514, 20682, 13516, 137676, 188878, 196301, 202, 231246, 83, 84, 20952, 172907, 159215, 117, 71928]"
   ]
  },
  {
   "cell_type": "code",
   "execution_count": 4,
   "metadata": {
    "id": "4_0mv8G0iCXY"
   },
   "outputs": [],
   "source": [
    "import pandas as pd\n",
    "location = {}\n",
    "#%cd 'gdrive/My Drive/Data Mining/Data/Beijing dataset'\n",
    "nodeid=pd.read_csv('nodeid.csv')\n",
    "for index, row in nodeid.iterrows():\n",
    "\n",
    "    art = str(row['nodeid']).split('.')[0]\n",
    "    cat = row['lon']\n",
    "    cat2= row['lat']\n",
    "    \n",
    "    if art not in location.keys():\n",
    "         location[art]=[]\n",
    "\n",
    "    location[art].append(cat)\n",
    "    location[art].append(cat2)"
   ]
  },
  {
   "cell_type": "code",
   "execution_count": 7,
   "metadata": {
    "id": "k3EU-jHke34u"
   },
   "outputs": [],
   "source": [
    "hubs_lon=[]\n",
    "hubs_lat=[]\n",
    "for id in hubs:\n",
    "    hubs_lon.append(location[str(id)][0])\n",
    "    hubs_lat.append(location[str(id)][1])"
   ]
  },
  {
   "cell_type": "code",
   "execution_count": null,
   "metadata": {
    "colab": {
     "base_uri": "https://localhost:8080/"
    },
    "id": "jE5UJgDCS2kx",
    "outputId": "41ad005c-d3b7-4182-9542-72a3783482d0"
   },
   "outputs": [
    {
     "name": "stdout",
     "output_type": "stream",
     "text": [
      "/content/gdrive/My Drive/DM/Data/Beijing dataset/Beijing_mapmatched_traj\n"
     ]
    }
   ],
   "source": [
    "cd Beijing_mapmatched_traj/"
   ]
  },
  {
   "cell_type": "code",
   "execution_count": 8,
   "metadata": {
    "id": "bfAgjABlROQt"
   },
   "outputs": [],
   "source": [
    "import os\n",
    "import pandas as pd\n",
    "\n",
    "# Getting the current work directory (cwd)\n",
    "thisdir = 'Beijing_mapmatched_traj/'\n"
   ]
  },
  {
   "cell_type": "code",
   "execution_count": 9,
   "metadata": {
    "colab": {
     "base_uri": "https://localhost:8080/"
    },
    "id": "cCT5BgFgeyj9",
    "outputId": "9edb7f6d-7e8f-4a71-d25e-91215a6fe662"
   },
   "outputs": [
    {
     "data": {
      "text/plain": [
       "1000"
      ]
     },
     "execution_count": 9,
     "metadata": {},
     "output_type": "execute_result"
    }
   ],
   "source": [
    "# r=root, d=directories, f = files\n",
    "taxi = []\n",
    "lis=[]\n",
    "for r, d, f in os.walk(thisdir):\n",
    "    for file in f:\n",
    "        if file.endswith(\".txt\"):\n",
    "            file = open(os.path.join(r, file),'r')\n",
    "            traj_data = file.readlines()\n",
    "            del traj_data[1::2]\n",
    "            for ele in traj_data:\n",
    "              if(ele!='broken\\n'):\n",
    "                #print(ele)\n",
    "                try:\n",
    "                  tmp = ele.split(': ')\n",
    "                  tmp_ = tmp[1].split(' ')\n",
    "                  t1=location[(tmp_[-2][1:-1])][0]\n",
    "                  t2=location[(tmp_[-2][1:-1])][1]\n",
    "                  t3=location[(tmp_[-1][:-2])][0]\n",
    "                  t4=location[(tmp_[-1][:-2])][1]\n",
    "                  taxi.append(t1)\n",
    "                  taxi.append(t2)\n",
    "                  taxi.append(t3)\n",
    "                  taxi.append(t4) \n",
    "                  taxi.append(tmp[0][4:])\n",
    "                except:\n",
    "                  lis.append(tmp_)\n",
    "len(lis)"
   ]
  },
  {
   "cell_type": "code",
   "execution_count": 10,
   "metadata": {
    "id": "aXdzgFzUdZgm"
   },
   "outputs": [],
   "source": [
    "tmp_lis = np.reshape(taxi,(-1,5))"
   ]
  },
  {
   "cell_type": "code",
   "execution_count": 11,
   "metadata": {
    "id": "hLUC7AtJOjL4"
   },
   "outputs": [],
   "source": [
    "sorted_taxi = sorted(tmp_lis, key=lambda x: x[4])"
   ]
  },
  {
   "cell_type": "code",
   "execution_count": 12,
   "metadata": {
    "id": "1H5d-12-v1S7"
   },
   "outputs": [],
   "source": [
    "\n",
    "node_id = nodeid['nodeid']\n"
   ]
  },
  {
   "cell_type": "code",
   "execution_count": 13,
   "metadata": {
    "id": "xYyL6CsSwnWi"
   },
   "outputs": [],
   "source": [
    "origin = []\n",
    "dest = []\n",
    "time_st = []\n",
    "from random import randrange\n",
    "import random\n",
    "import time\n",
    "\n",
    "\n",
    "start_timestamp = time.mktime(time.strptime('Jul 7 2008  01:00:00', '%b %d %Y %I:%M:%S'))\n",
    "end_timestamp = time.mktime(time.strptime('Jul 8 2008  9:00:00', '%b %d %Y %I:%M:%S'))\n",
    "\n",
    "def randomize_time(start_timestamp,end_timestamp):\n",
    "    return time.strftime('%b %d %Y %I:%M:%S', time.localtime(randrange(start_timestamp,end_timestamp)))\n",
    "for i in range(10):\n",
    "  time_st.append(randomize_time(start_timestamp,end_timestamp))\n",
    "  origin.append(str(node_id[random.randint(0,len(node_id))]))\n",
    "  dest.append(str(node_id[random.randint(0,len(node_id))]))"
   ]
  },
  {
   "cell_type": "code",
   "execution_count": 14,
   "metadata": {
    "id": "gcaGBCJRyhtb"
   },
   "outputs": [],
   "source": [
    "from math import sin, cos, sqrt, atan2, radians\n",
    "\n",
    "def Haversine(lat1,lon1,lat2,lon2, **kwarg):\n",
    "    \"\"\"\n",
    "    This uses the ‘haversine’ formula to calculate the great-circle distance between two points – that is, \n",
    "    the shortest distance over the earth’s surface – giving an ‘as-the-crow-flies’ distance between the points \n",
    "    (ignoring any hills they fly over, of course!).\n",
    "    Haversine\n",
    "    formula:    a = sin²(Δφ/2) + cos φ1 ⋅ cos φ2 ⋅ sin²(Δλ/2)\n",
    "    c = 2 ⋅ atan2( √a, √(1−a) )\n",
    "    d = R ⋅ c\n",
    "    where   φ is latitude, λ is longitude, R is earth’s radius (mean radius = 6,371km);\n",
    "    note that angles need to be in radians to pass to trig functions!\n",
    "    \"\"\"\n",
    "    R = 6371.0088\n",
    "    lat1,lon1,lat2,lon2 = map(np.radians, [lat1,lon1,lat2,lon2])\n",
    "\n",
    "    dlat = lat2 - lat1\n",
    "    dlon = lon2 - lon1\n",
    "    a = np.sin(dlat/2)**2 + np.cos(lat1) * np.cos(lat2) * np.sin(dlon/2) **2\n",
    "    c = 2 * np.arctan2(a**0.5, (1-a)**0.5)\n",
    "    d = R * c\n",
    "    return round(d,4)"
   ]
  },
  {
   "cell_type": "code",
   "execution_count": 15,
   "metadata": {
    "id": "YqL1fRsj1at3"
   },
   "outputs": [],
   "source": [
    "time_st_=[]\n",
    "for i in time_st:\n",
    "  time_st_.append(i.replace('2008 ',''))\n",
    "time_st=time_st_"
   ]
  },
  {
   "cell_type": "code",
   "execution_count": 16,
   "metadata": {
    "colab": {
     "base_uri": "https://localhost:8080/",
     "height": 35
    },
    "id": "iHpZeGeS2fwA",
    "outputId": "04ed4caa-426c-4a82-c0f3-1c16245df583"
   },
   "outputs": [
    {
     "data": {
      "text/plain": [
       "'Jul 07 02:29:42'"
      ]
     },
     "execution_count": 16,
     "metadata": {},
     "output_type": "execute_result"
    }
   ],
   "source": [
    "time_st[0]"
   ]
  },
  {
   "cell_type": "code",
   "execution_count": 17,
   "metadata": {
    "colab": {
     "base_uri": "https://localhost:8080/"
    },
    "id": "-dpDJ8jy1eH0",
    "outputId": "a4d305cc-01d8-411a-ed1b-1069b71fc5ab"
   },
   "outputs": [
    {
     "data": {
      "text/plain": [
       "array(['116.48395079999999', '39.9512713', '115.45068059999998',\n",
       "       '39.7773093', 'Jul 08 09:31:23 IST 2013'], dtype='<U32')"
      ]
     },
     "execution_count": 17,
     "metadata": {},
     "output_type": "execute_result"
    }
   ],
   "source": [
    "sorted_taxi[-1]"
   ]
  },
  {
   "cell_type": "code",
   "execution_count": 19,
   "metadata": {
    "id": "WRR8v5NCJUk2"
   },
   "outputs": [
    {
     "ename": "KeyboardInterrupt",
     "evalue": "",
     "output_type": "error",
     "traceback": [
      "\u001b[0;31m---------------------------------------------------------------------------\u001b[0m",
      "\u001b[0;31mKeyboardInterrupt\u001b[0m                         Traceback (most recent call last)",
      "\u001b[0;32m<ipython-input-19-9d0e35db1d8c>\u001b[0m in \u001b[0;36m<module>\u001b[0;34m\u001b[0m\n\u001b[1;32m     16\u001b[0m       \u001b[0mdis\u001b[0m\u001b[0;34m.\u001b[0m\u001b[0mappend\u001b[0m\u001b[0;34m(\u001b[0m\u001b[0mHaversine\u001b[0m\u001b[0;34m(\u001b[0m\u001b[0mpack_src_lat\u001b[0m\u001b[0;34m,\u001b[0m\u001b[0mpack_src_lon\u001b[0m\u001b[0;34m,\u001b[0m\u001b[0mfloat\u001b[0m\u001b[0;34m(\u001b[0m\u001b[0mli\u001b[0m\u001b[0;34m[\u001b[0m\u001b[0mj\u001b[0m\u001b[0;34m]\u001b[0m\u001b[0;34m[\u001b[0m\u001b[0;36m0\u001b[0m\u001b[0;34m]\u001b[0m\u001b[0;34m)\u001b[0m\u001b[0;34m,\u001b[0m\u001b[0mfloat\u001b[0m\u001b[0;34m(\u001b[0m\u001b[0mli\u001b[0m\u001b[0;34m[\u001b[0m\u001b[0mj\u001b[0m\u001b[0;34m]\u001b[0m\u001b[0;34m[\u001b[0m\u001b[0;36m1\u001b[0m\u001b[0;34m]\u001b[0m\u001b[0;34m)\u001b[0m\u001b[0;34m)\u001b[0m\u001b[0;34m)\u001b[0m\u001b[0;34m\u001b[0m\u001b[0;34m\u001b[0m\u001b[0m\n\u001b[1;32m     17\u001b[0m       \u001b[0;34m[\u001b[0m\u001b[0mdis_\u001b[0m\u001b[0;34m.\u001b[0m\u001b[0mappend\u001b[0m\u001b[0;34m(\u001b[0m\u001b[0mHaversine\u001b[0m\u001b[0;34m(\u001b[0m\u001b[0mfloat\u001b[0m\u001b[0;34m(\u001b[0m\u001b[0mli\u001b[0m\u001b[0;34m[\u001b[0m\u001b[0mi\u001b[0m\u001b[0;34m]\u001b[0m\u001b[0;34m[\u001b[0m\u001b[0;36m0\u001b[0m\u001b[0;34m]\u001b[0m\u001b[0;34m)\u001b[0m\u001b[0;34m,\u001b[0m\u001b[0mfloat\u001b[0m\u001b[0;34m(\u001b[0m\u001b[0mli\u001b[0m\u001b[0;34m[\u001b[0m\u001b[0mi\u001b[0m\u001b[0;34m]\u001b[0m\u001b[0;34m[\u001b[0m\u001b[0;36m1\u001b[0m\u001b[0;34m]\u001b[0m\u001b[0;34m)\u001b[0m\u001b[0;34m,\u001b[0m\u001b[0mhubs_lat\u001b[0m\u001b[0;34m[\u001b[0m\u001b[0mid\u001b[0m\u001b[0;34m]\u001b[0m\u001b[0;34m,\u001b[0m\u001b[0mhubs_lon\u001b[0m\u001b[0;34m[\u001b[0m\u001b[0mid\u001b[0m\u001b[0;34m]\u001b[0m\u001b[0;34m)\u001b[0m\u001b[0;34m)\u001b[0m \u001b[0;32mfor\u001b[0m \u001b[0mid\u001b[0m \u001b[0;32min\u001b[0m \u001b[0mrange\u001b[0m\u001b[0;34m(\u001b[0m\u001b[0mlen\u001b[0m\u001b[0;34m(\u001b[0m\u001b[0mhubs_lon\u001b[0m\u001b[0;34m)\u001b[0m\u001b[0;34m)\u001b[0m\u001b[0;34m]\u001b[0m\u001b[0;34m\u001b[0m\u001b[0;34m\u001b[0m\u001b[0m\n\u001b[0;32m---> 18\u001b[0;31m       \u001b[0mhub_lon\u001b[0m \u001b[0;34m=\u001b[0m \u001b[0mhubs_lat\u001b[0m\u001b[0;34m[\u001b[0m\u001b[0mdis_\u001b[0m\u001b[0;34m.\u001b[0m\u001b[0mindex\u001b[0m\u001b[0;34m(\u001b[0m\u001b[0mmin\u001b[0m\u001b[0;34m(\u001b[0m\u001b[0mdis_\u001b[0m\u001b[0;34m)\u001b[0m\u001b[0;34m)\u001b[0m\u001b[0;34m]\u001b[0m\u001b[0;34m\u001b[0m\u001b[0;34m\u001b[0m\u001b[0m\n\u001b[0m\u001b[1;32m     19\u001b[0m       \u001b[0mhub_lat\u001b[0m \u001b[0;34m=\u001b[0m \u001b[0mhubs_lon\u001b[0m\u001b[0;34m[\u001b[0m\u001b[0mdis_\u001b[0m\u001b[0;34m.\u001b[0m\u001b[0mindex\u001b[0m\u001b[0;34m(\u001b[0m\u001b[0mmin\u001b[0m\u001b[0;34m(\u001b[0m\u001b[0mdis_\u001b[0m\u001b[0;34m)\u001b[0m\u001b[0;34m)\u001b[0m\u001b[0;34m]\u001b[0m\u001b[0;34m\u001b[0m\u001b[0;34m\u001b[0m\u001b[0m\n\u001b[1;32m     20\u001b[0m \u001b[0;31m#     dis.append(Haversine(pack_dest_lat,pack_dest_lon,hub_lat,hub_lat))\u001b[0m\u001b[0;34m\u001b[0m\u001b[0;34m\u001b[0m\u001b[0;34m\u001b[0m\u001b[0m\n",
      "\u001b[0;31mKeyboardInterrupt\u001b[0m: "
     ]
    }
   ],
   "source": [
    "dis_li =[]\n",
    "dis = []\n",
    "for i in range(1):\n",
    "    pack_src_lon = location[origin[i][0:len(origin[i])-2]][0]\n",
    "    pack_src_lat = location[origin[i][0:len(origin[i])-2]][1]\n",
    "    pack_dest_lon = location[dest[i][0:len(dest[i])-2]][0]\n",
    "    pack_dest_lat = location[dest[i][0:len(dest[i])-2]][1]\n",
    "    pack_time = time_st[i]\n",
    "    dis = list()\n",
    "    dis_ = list()\n",
    "    li=[]\n",
    "    for j in range(len(sorted_taxi)):\n",
    "      if sorted_taxi[j][4] > pack_time:\n",
    "        li.append(sorted_taxi[j])\n",
    "    for j in range(len(li)):\n",
    "      dis.append(Haversine(pack_src_lat,pack_src_lon,float(li[j][0]),float(li[j][1])))\n",
    "      x = np.array(hubs_lon)\n",
    "      squarer = lambda t: t ** 2\n",
    "      vfunc = np.vectorize(squarer)\n",
    "      vfunc(x)\n",
    "      [dis_.append(Haversine(float(li[i][0]),float(li[i][1]),hubs_lat[id],hubs_lon[id])) for id in range(len(hubs_lon))]\n",
    "      hub_lon = hubs_lat[dis_.index(min(dis_))]\n",
    "      hub_lat = hubs_lon[dis_.index(min(dis_))]\n",
    "#     dis.append(Haversine(pack_dest_lat,pack_dest_lon,hub_lat,hub_lat))\n",
    "# dis_li = np.reshape(dis,(-1,2))\n",
    "# sorted_dis = sorted(dis_li, key=lambda x: x[0])\n",
    "\n",
    "dis"
   ]
  },
  {
   "cell_type": "code",
   "execution_count": null,
   "metadata": {
    "id": "Hk8FDNXp7dJL"
   },
   "outputs": [],
   "source": [
    "origin[i][0:len(origin[i])-2]"
   ]
  },
  {
   "cell_type": "code",
   "execution_count": null,
   "metadata": {
    "id": "ioDgfUCJzeWe"
   },
   "outputs": [],
   "source": [
    "dis_li"
   ]
  }
 ],
 "metadata": {
  "colab": {
   "collapsed_sections": [],
   "name": "Untitled6.ipynb",
   "provenance": []
  },
  "kernelspec": {
   "display_name": "Python 3",
   "language": "python",
   "name": "python3"
  },
  "language_info": {
   "codemirror_mode": {
    "name": "ipython",
    "version": 3
   },
   "file_extension": ".py",
   "mimetype": "text/x-python",
   "name": "python",
   "nbconvert_exporter": "python",
   "pygments_lexer": "ipython3",
   "version": "3.7.3"
  }
 },
 "nbformat": 4,
 "nbformat_minor": 1
}
