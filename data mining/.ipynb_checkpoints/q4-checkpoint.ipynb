{
 "cells": [
  {
   "cell_type": "code",
   "execution_count": 1,
   "metadata": {},
   "outputs": [],
   "source": [
    "import json\n",
    "import csv \n",
    "import numpy as np"
   ]
  },
  {
   "cell_type": "code",
   "execution_count": 2,
   "metadata": {},
   "outputs": [],
   "source": [
    "\n",
    "with open('mapping.json') as json_data:\n",
    "    mapping = json.load(json_data)\n",
    "    \n",
    "with open('neighbor-districts-modified.json') as json_data:\n",
    "    neighbors = json.load(json_data)\n",
    "    "
   ]
  },
  {
   "cell_type": "code",
   "execution_count": 3,
   "metadata": {},
   "outputs": [],
   "source": [
    "\n",
    "neighbors_num_dict = dict()\n",
    "\n",
    "for i in neighbors:\n",
    "    \n",
    "    idx = mapping[i]\n",
    "    neighbors_num_dict[idx] = list()\n",
    "    \n",
    "    for j in neighbors[i]:\n",
    "        \n",
    "        neigh_idx = mapping[j]\n",
    "        neighbors_num_dict[idx].append(neigh_idx)\n",
    "        \n"
   ]
  },
  {
   "cell_type": "code",
   "execution_count": 4,
   "metadata": {},
   "outputs": [],
   "source": [
    "#with open(\"neighbor-districts-numeric.json\", \"w\") as f:  \n",
    "#      json.dump(neighbors_num_dict,f,indent=4) "
   ]
  },
  {
   "cell_type": "code",
   "execution_count": 5,
   "metadata": {},
   "outputs": [],
   "source": [
    "def neighbors_creation(file_name,outfile_name):\n",
    "    \n",
    "    metric_dict = dict()\n",
    "\n",
    "    for dist in mapping.values():\n",
    "        metric_dict[dist]=dict()\n",
    "        \n",
    "    data = open(file_name, 'r') \n",
    "    metric_list = set()\n",
    "    for line in data:\n",
    "        line = line.split(',')\n",
    "        metric_list.add(int(line[1]))\n",
    "        metric_dict[int(line[0])][int(line[1])] = int(line[2])\n",
    "\n",
    "    data.close()\n",
    "\n",
    "    metric_list=list(metric_list)\n",
    "    metric_list.sort()\n",
    "        \n",
    "    n_list = list(neighbors.keys())\n",
    "    neigh_list = []\n",
    "    \n",
    "    for i in n_list:\n",
    "        idx = mapping[i]\n",
    "        neigh_list.append(idx)\n",
    "\n",
    "    neigh_list.sort()\n",
    "    \n",
    "    f=open(outfile_name,'a')\n",
    "\n",
    "    for idx in neigh_list:\n",
    "\n",
    "        for metric_num in metric_list:\n",
    "            count=[]\n",
    "\n",
    "            for neigh_idx in neighbors_num_dict[idx]:\n",
    "                count.append(metric_dict[neigh_idx][metric_num])\n",
    "\n",
    "            mean = round(np.mean(count),2)\n",
    "            std = round(np.std(count),2)\n",
    "\n",
    "            f.write(str(idx)+\",\"+str(metric_num)+\",\"+str(mean)+\",\"+str(std)+\"\\n\")\n",
    "\n",
    "    f.close()\n",
    "        "
   ]
  },
  {
   "cell_type": "code",
   "execution_count": 6,
   "metadata": {},
   "outputs": [],
   "source": [
    "neighbors_creation('cases-week.csv','neighbor-week.csv')\n",
    "neighbors_creation('cases-month.csv','neighbor-month.csv')\n",
    "neighbors_creation('cases-overall.csv','neighbor-overall.csv')"
   ]
  }
 ],
 "metadata": {
  "kernelspec": {
   "display_name": "Python 3",
   "language": "python",
   "name": "python3"
  },
  "language_info": {
   "codemirror_mode": {
    "name": "ipython",
    "version": 3
   },
   "file_extension": ".py",
   "mimetype": "text/x-python",
   "name": "python",
   "nbconvert_exporter": "python",
   "pygments_lexer": "ipython3",
   "version": "3.7.3"
  }
 },
 "nbformat": 4,
 "nbformat_minor": 4
}
