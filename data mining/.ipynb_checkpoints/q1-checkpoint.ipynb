{
 "cells": [
  {
   "cell_type": "code",
   "execution_count": 1,
   "metadata": {},
   "outputs": [],
   "source": [
    "import requests\n",
    "import pandas as pd\n",
    "import json\n",
    "from difflib import SequenceMatcher"
   ]
  },
  {
   "cell_type": "code",
   "execution_count": 2,
   "metadata": {},
   "outputs": [],
   "source": [
    "data = requests.get('https://api.covid19india.org/v4/data-all.json').json()\n",
    "#df = pd.DataFrame(requests.get('https://api.covid19india.org/v4/data-all.json',verify=False).json())"
   ]
  },
  {
   "cell_type": "code",
   "execution_count": 3,
   "metadata": {},
   "outputs": [],
   "source": [
    "with open(\"data-all.json\", \"w\") as f:  \n",
    "    json.dump(data,f,indent=4) "
   ]
  },
  {
   "cell_type": "code",
   "execution_count": 4,
   "metadata": {},
   "outputs": [],
   "source": [
    "remove = [\"Subarnapur\",\"Khawzawl\",\"Tirupathur\",\"Saitual\",\"Ranipet\",\"Tenkasi\",\"Yanam\",\"Tenkasi\",\"Hnahthial\",\"Dibang Valley\",\"Gaurela Pendra Marwahi\",\"CAPF Personnel\",\"Chengalpattu\",\"Evacuees\",\"Other State\",\"Other Region\",\"Others\",\"Unknown\",\"Italians\",\"Airport Quarantine\",\"BSF Camp\",\"Foreign Evacuees\",\"Railway Quarantine\"]"
   ]
  },
  {
   "cell_type": "code",
   "execution_count": 5,
   "metadata": {},
   "outputs": [],
   "source": [
    "\n",
    "districts=list()\n",
    "for key in data.keys():\n",
    "    for key2 in data[key]:\n",
    "        try:\n",
    "            for district in data[key][key2]['districts'].keys():\n",
    "                if district not in remove:\n",
    "                    districts.append(district+\"_\"+key2)\n",
    "        except:\n",
    "            z=0\n",
    "\n",
    "covid_web_district = list(set(districts))\n",
    "covid_web_district.sort()"
   ]
  },
  {
   "cell_type": "code",
   "execution_count": 6,
   "metadata": {},
   "outputs": [],
   "source": [
    "with open('neighbor-districts.json') as json_data:\n",
    "    graph = json.load(json_data)\n",
    "\n",
    "\n",
    "dist_file = list(graph.keys())\n",
    "dist_file_repeated = list()\n",
    "for district in dist_file:\n",
    "    dist_file_repeated.append(district)\n",
    "    \n",
    "dist_file.sort()\n"
   ]
  },
  {
   "cell_type": "code",
   "execution_count": 7,
   "metadata": {},
   "outputs": [
    {
     "ename": "KeyboardInterrupt",
     "evalue": "",
     "output_type": "error",
     "traceback": [
      "\u001b[0;31m---------------------------------------------------------------------------\u001b[0m",
      "\u001b[0;31mKeyboardInterrupt\u001b[0m                         Traceback (most recent call last)",
      "\u001b[0;32m<ipython-input-7-45844a176a4f>\u001b[0m in \u001b[0;36m<module>\u001b[0;34m\u001b[0m\n\u001b[1;32m      4\u001b[0m     \u001b[0mscore\u001b[0m \u001b[0;34m=\u001b[0m \u001b[0;36m0\u001b[0m\u001b[0;34m\u001b[0m\u001b[0;34m\u001b[0m\u001b[0m\n\u001b[1;32m      5\u001b[0m     \u001b[0;32mfor\u001b[0m \u001b[0mweb_district\u001b[0m \u001b[0;32min\u001b[0m \u001b[0mcovid_web_district\u001b[0m\u001b[0;34m:\u001b[0m\u001b[0;34m\u001b[0m\u001b[0;34m\u001b[0m\u001b[0m\n\u001b[0;32m----> 6\u001b[0;31m         \u001b[0mtemp\u001b[0m \u001b[0;34m=\u001b[0m \u001b[0mSequenceMatcher\u001b[0m\u001b[0;34m(\u001b[0m\u001b[0;32mNone\u001b[0m\u001b[0;34m,\u001b[0m \u001b[0mdistrict\u001b[0m\u001b[0;34m.\u001b[0m\u001b[0msplit\u001b[0m\u001b[0;34m(\u001b[0m\u001b[0;34m'/'\u001b[0m\u001b[0;34m)\u001b[0m\u001b[0;34m[\u001b[0m\u001b[0;36m0\u001b[0m\u001b[0;34m]\u001b[0m\u001b[0;34m,\u001b[0m \u001b[0mweb_district\u001b[0m\u001b[0;34m.\u001b[0m\u001b[0msplit\u001b[0m\u001b[0;34m(\u001b[0m\u001b[0;34m'_'\u001b[0m\u001b[0;34m)\u001b[0m\u001b[0;34m[\u001b[0m\u001b[0;36m0\u001b[0m\u001b[0;34m]\u001b[0m\u001b[0;34m.\u001b[0m\u001b[0mlower\u001b[0m\u001b[0;34m(\u001b[0m\u001b[0;34m)\u001b[0m\u001b[0;34m)\u001b[0m\u001b[0;34m.\u001b[0m\u001b[0mratio\u001b[0m\u001b[0;34m(\u001b[0m\u001b[0;34m)\u001b[0m\u001b[0;34m\u001b[0m\u001b[0;34m\u001b[0m\u001b[0m\n\u001b[0m\u001b[1;32m      7\u001b[0m         \u001b[0;32mif\u001b[0m \u001b[0mtemp\u001b[0m\u001b[0;34m>\u001b[0m\u001b[0mscore\u001b[0m\u001b[0;34m:\u001b[0m\u001b[0;34m\u001b[0m\u001b[0;34m\u001b[0m\u001b[0m\n\u001b[1;32m      8\u001b[0m             \u001b[0mscore\u001b[0m \u001b[0;34m=\u001b[0m \u001b[0mtemp\u001b[0m\u001b[0;34m\u001b[0m\u001b[0;34m\u001b[0m\u001b[0m\n",
      "\u001b[0;32m~/anaconda3/lib/python3.7/difflib.py\u001b[0m in \u001b[0;36mratio\u001b[0;34m(self)\u001b[0m\n\u001b[1;32m    642\u001b[0m         \"\"\"\n\u001b[1;32m    643\u001b[0m \u001b[0;34m\u001b[0m\u001b[0m\n\u001b[0;32m--> 644\u001b[0;31m         \u001b[0mmatches\u001b[0m \u001b[0;34m=\u001b[0m \u001b[0msum\u001b[0m\u001b[0;34m(\u001b[0m\u001b[0mtriple\u001b[0m\u001b[0;34m[\u001b[0m\u001b[0;34m-\u001b[0m\u001b[0;36m1\u001b[0m\u001b[0;34m]\u001b[0m \u001b[0;32mfor\u001b[0m \u001b[0mtriple\u001b[0m \u001b[0;32min\u001b[0m \u001b[0mself\u001b[0m\u001b[0;34m.\u001b[0m\u001b[0mget_matching_blocks\u001b[0m\u001b[0;34m(\u001b[0m\u001b[0;34m)\u001b[0m\u001b[0;34m)\u001b[0m\u001b[0;34m\u001b[0m\u001b[0;34m\u001b[0m\u001b[0m\n\u001b[0m\u001b[1;32m    645\u001b[0m         \u001b[0;32mreturn\u001b[0m \u001b[0m_calculate_ratio\u001b[0m\u001b[0;34m(\u001b[0m\u001b[0mmatches\u001b[0m\u001b[0;34m,\u001b[0m \u001b[0mlen\u001b[0m\u001b[0;34m(\u001b[0m\u001b[0mself\u001b[0m\u001b[0;34m.\u001b[0m\u001b[0ma\u001b[0m\u001b[0;34m)\u001b[0m \u001b[0;34m+\u001b[0m \u001b[0mlen\u001b[0m\u001b[0;34m(\u001b[0m\u001b[0mself\u001b[0m\u001b[0;34m.\u001b[0m\u001b[0mb\u001b[0m\u001b[0;34m)\u001b[0m\u001b[0;34m)\u001b[0m\u001b[0;34m\u001b[0m\u001b[0;34m\u001b[0m\u001b[0m\n\u001b[1;32m    646\u001b[0m \u001b[0;34m\u001b[0m\u001b[0m\n",
      "\u001b[0;32m~/anaconda3/lib/python3.7/difflib.py\u001b[0m in \u001b[0;36mget_matching_blocks\u001b[0;34m(self)\u001b[0m\n\u001b[1;32m    477\u001b[0m         \u001b[0;32mwhile\u001b[0m \u001b[0mqueue\u001b[0m\u001b[0;34m:\u001b[0m\u001b[0;34m\u001b[0m\u001b[0;34m\u001b[0m\u001b[0m\n\u001b[1;32m    478\u001b[0m             \u001b[0malo\u001b[0m\u001b[0;34m,\u001b[0m \u001b[0mahi\u001b[0m\u001b[0;34m,\u001b[0m \u001b[0mblo\u001b[0m\u001b[0;34m,\u001b[0m \u001b[0mbhi\u001b[0m \u001b[0;34m=\u001b[0m \u001b[0mqueue\u001b[0m\u001b[0;34m.\u001b[0m\u001b[0mpop\u001b[0m\u001b[0;34m(\u001b[0m\u001b[0;34m)\u001b[0m\u001b[0;34m\u001b[0m\u001b[0;34m\u001b[0m\u001b[0m\n\u001b[0;32m--> 479\u001b[0;31m             \u001b[0mi\u001b[0m\u001b[0;34m,\u001b[0m \u001b[0mj\u001b[0m\u001b[0;34m,\u001b[0m \u001b[0mk\u001b[0m \u001b[0;34m=\u001b[0m \u001b[0mx\u001b[0m \u001b[0;34m=\u001b[0m \u001b[0mself\u001b[0m\u001b[0;34m.\u001b[0m\u001b[0mfind_longest_match\u001b[0m\u001b[0;34m(\u001b[0m\u001b[0malo\u001b[0m\u001b[0;34m,\u001b[0m \u001b[0mahi\u001b[0m\u001b[0;34m,\u001b[0m \u001b[0mblo\u001b[0m\u001b[0;34m,\u001b[0m \u001b[0mbhi\u001b[0m\u001b[0;34m)\u001b[0m\u001b[0;34m\u001b[0m\u001b[0;34m\u001b[0m\u001b[0m\n\u001b[0m\u001b[1;32m    480\u001b[0m             \u001b[0;31m# a[alo:i] vs b[blo:j] unknown\u001b[0m\u001b[0;34m\u001b[0m\u001b[0;34m\u001b[0m\u001b[0;34m\u001b[0m\u001b[0m\n\u001b[1;32m    481\u001b[0m             \u001b[0;31m# a[i:i+k] same as b[j:j+k]\u001b[0m\u001b[0;34m\u001b[0m\u001b[0;34m\u001b[0m\u001b[0;34m\u001b[0m\u001b[0m\n",
      "\u001b[0;32m~/anaconda3/lib/python3.7/difflib.py\u001b[0m in \u001b[0;36mfind_longest_match\u001b[0;34m(self, alo, ahi, blo, bhi)\u001b[0m\n\u001b[1;32m    402\u001b[0m             \u001b[0mj2lenget\u001b[0m \u001b[0;34m=\u001b[0m \u001b[0mj2len\u001b[0m\u001b[0;34m.\u001b[0m\u001b[0mget\u001b[0m\u001b[0;34m\u001b[0m\u001b[0;34m\u001b[0m\u001b[0m\n\u001b[1;32m    403\u001b[0m             \u001b[0mnewj2len\u001b[0m \u001b[0;34m=\u001b[0m \u001b[0;34m{\u001b[0m\u001b[0;34m}\u001b[0m\u001b[0;34m\u001b[0m\u001b[0;34m\u001b[0m\u001b[0m\n\u001b[0;32m--> 404\u001b[0;31m             \u001b[0;32mfor\u001b[0m \u001b[0mj\u001b[0m \u001b[0;32min\u001b[0m \u001b[0mb2j\u001b[0m\u001b[0;34m.\u001b[0m\u001b[0mget\u001b[0m\u001b[0;34m(\u001b[0m\u001b[0ma\u001b[0m\u001b[0;34m[\u001b[0m\u001b[0mi\u001b[0m\u001b[0;34m]\u001b[0m\u001b[0;34m,\u001b[0m \u001b[0mnothing\u001b[0m\u001b[0;34m)\u001b[0m\u001b[0;34m:\u001b[0m\u001b[0;34m\u001b[0m\u001b[0;34m\u001b[0m\u001b[0m\n\u001b[0m\u001b[1;32m    405\u001b[0m                 \u001b[0;31m# a[i] matches b[j]\u001b[0m\u001b[0;34m\u001b[0m\u001b[0;34m\u001b[0m\u001b[0;34m\u001b[0m\u001b[0m\n\u001b[1;32m    406\u001b[0m                 \u001b[0;32mif\u001b[0m \u001b[0mj\u001b[0m \u001b[0;34m<\u001b[0m \u001b[0mblo\u001b[0m\u001b[0;34m:\u001b[0m\u001b[0;34m\u001b[0m\u001b[0;34m\u001b[0m\u001b[0m\n",
      "\u001b[0;31mKeyboardInterrupt\u001b[0m: "
     ]
    }
   ],
   "source": [
    "\n",
    "mapping = dict()\n",
    "\n",
    "for district in dist_file:\n",
    "    score = 0\n",
    "    for web_district in covid_web_district:\n",
    "        temp = SequenceMatcher(None, district.split('/')[0], web_district.split('_')[0].lower()).ratio()\n",
    "        if temp>score:\n",
    "            score = temp\n",
    "            correct_city = web_district\n",
    "    \n",
    "    mapping[district] = correct_city\n",
    "    "
   ]
  },
  {
   "cell_type": "code",
   "execution_count": null,
   "metadata": {},
   "outputs": [],
   "source": [
    "to_be_remove = {\n",
    "'adilabad/Q15211': 'Nadia_WB',\n",
    "'baksa/Q2360266': 'Banka_BR',\n",
    "'barpeta/Q41249': 'Bametara_CT',\n",
    "'bhadradri_kothagudem/Q28169767': 'Bhadrak_OR',\n",
    "'bishwanath/Q28110722': 'Kishanganj_BR',\n",
    "'bongaigaon/Q42197': 'Kondagaon_CT',\n",
    "'cachar/Q42209': 'Chatra_JH',\n",
    "'chandel/Q2301769': 'Chandauli_UP',\n",
    "'charaideo/Q24039029': 'Chatra_JH',\n",
    "'chirang/Q2574898': 'Chitradurga_KA',\n",
    "'churachandpur/Q2577281': 'Burhanpur_MP',\n",
    "'darrang/Q42461': 'Darbhanga_BR',\n",
    "'dhemaji/Q42473': 'Dhamtari_CT',\n",
    "'dhubri/Q42485': 'Madhubani_BR',\n",
    "'dibrugarh/Q42479': 'Bargarh_OR',\n",
    "'dima_hasao_district/Q42774': 'Mahasamund_CT',\n",
    "'east_sikkim_district/Q1772832': 'East Khasi Hills_ML',\n",
    "'goalpara/Q42522': 'Alwar_RJ',\n",
    "'golaghat/Q42517': 'Balaghat_MP',\n",
    "'hailakandi/Q42505': 'Kalahandi_OR',\n",
    "'hojai/Q24699407': 'Khowai_TR',\n",
    "'hyderabad/Q15340': 'Ahmedabad_GJ',\n",
    "'imphal_east/Q1916666': 'Sipahijala_TR',\n",
    "'imphal_west/Q1822188': 'Champawat_UT',\n",
    "'jagtial/Q28169780': 'Patiala_PB',\n",
    "'jangaon/Q28170170': 'Jalgaon_MH',\n",
    "'jayashankar_bhupalapally/Q28169775': 'Chikkaballapura_KA',\n",
    "'jiribam/Q28419387': 'Birbhum_WB',\n",
    "'jogulamba_gadwal/Q27897618': 'Jamnagar_GJ',\n",
    "'jorhat/Q42611': 'Khordha_OR',\n",
    "'kakching/Q28173825': 'Mokokchung_NL',\n",
    "'kamareddy/Q27956125': 'Kamle_AR',\n",
    "'kamjong/Q28419390': 'Kalimpong_WB',\n",
    "'kamrup/Q2247441': 'Karur_TN',\n",
    "'kamrup_metropolitan/Q2464674': 'Amreli_GJ',\n",
    "'kangpokpi/Q28419386': 'Katni_MP',\n",
    "'karimganj/Q42542': 'Kasganj_UP',\n",
    "'karimnagar/Q15373': 'Jamnagar_GJ',\n",
    "'kokrajhar/Q42618': 'Katihar_BR',\n",
    "'komram_bheem/Q28170184': 'Mahe_PY',\n",
    "'konkan_division/Q6268840': 'Kondagaon_CT',\n",
    "'mahabubabad/Q28169761': 'Ahmedabad_GJ',\n",
    "'mahabubnagar/Q15380': 'Bhavnagar_GJ',\n",
    "'majuli/Q28110729': 'Mau_UP',\n",
    "#'mancherial_district/Q28169747': 'Chengalpattu_TN',\n",
    "'marigaon/Q42737': 'Umaria_MP',\n",
    "'medak/Q15386': 'Kheda_GJ',\n",
    "'medchal–malkajgiri/Q27614841': 'Malkangiri_OR',\n",
    "'muktsar/Q1947359': 'Amritsar_PB',\n",
    "'mulugu/Q61746006': 'Kullu_HP',\n",
    "'nagaon/Q42686': 'Kondagaon_CT',\n",
    "'nalbari/Q42779': 'Ballari_KA',\n",
    "'nalgonda/Q15384': 'Nalanda_BR',\n",
    "'narayanpet/Q61746013': 'Narayanpur_CT',\n",
    "'nirmal/Q28169750': 'Narmada_GJ',\n",
    "'nizamabad/Q15391': 'Ahmedabad_GJ',\n",
    "'noklak/Q48731903': 'Akola_MH',\n",
    "'noney/Q28419389': 'Indore_MP',\n",
    "'north_east_delhi/Q429329': 'North Garo Hills_ML',\n",
    "'north_goa/Q108234': 'North Garo Hills_ML',\n",
    "'north_sikkim_district/Q1784149': 'North Tripura_TR',\n",
    "'north_west_delhi/Q766125': 'South West Garo Hills_ML',\n",
    "'pherzawl/Q28173809': 'Khawzawl_MZ',\n",
    "'rajanna_sircilla/Q28172781': 'Ratnagiri_MH',\n",
    "'rangareddy/Q15388': 'Raigad_MH',\n",
    "#'sangareddy/Q28169753': 'Sagar_MP',\n",
    "'shahdara/Q83486': 'Bhandara_MH',\n",
    "'sivasagar/Q42768': 'Sagar_MP',\n",
    "'sonitpur/Q42765': 'Sitapur_UP',\n",
    "'south_east_delhi/Q25553535': 'South West Garo Hills_ML',\n",
    "'south_goa/Q108244': 'South Garo Hills_ML',\n",
    "'south_salmara-mankachar/Q24907599': 'Chamarajanagara_KA',\n",
    "'south_sikkim_district/Q1805051': 'South Tripura_TR',\n",
    "'suryapet/Q28169770': 'Surat_GJ',\n",
    "'tamenglong/Q2301717': 'Changlang_AR',\n",
    "'tengnoupal/Q28419388': 'Angul_OR',\n",
    "'thoubal/Q2086198': 'Bhopal_MP',\n",
    "'udalguri/Q321998': 'Jalpaiguri_WB',\n",
    "'ukhrul/Q735101': 'Karauli_RJ',\n",
    "'vikarabad/Q28170173': 'Faridabad_HR',\n",
    "'wanaparthy/Q28172504': 'Pratapgarh_RJ',\n",
    "'warangal_rural/Q28169759': 'Bengaluru Rural_KA',\n",
    "'warangal_urban/Q213077': 'Aurangabad_BR',\n",
    "'west_sikkim_district/Q611357': 'West Khasi Hills_ML',\n",
    "'yadadri_bhuvanagiri/Q28169764': 'Krishnagiri_TN'}"
   ]
  },
  {
   "cell_type": "code",
   "execution_count": null,
   "metadata": {},
   "outputs": [],
   "source": [
    "for i in to_be_remove:\n",
    "    del mapping[i]"
   ]
  },
  {
   "cell_type": "code",
   "execution_count": null,
   "metadata": {},
   "outputs": [],
   "source": [
    "mapping['aurangabad/Q43086']= 'Aurangabad_BR'\n",
    "mapping['aurangabad/Q592942']= 'Aurangabad_MH'\n",
    "mapping['baleshwar/Q2022279']='Balasore_OR'\n",
    "mapping['balrampur/Q16056268']= 'Balrampur_CT'\n",
    "mapping['balrampur/Q1948380']= 'Balrampur_UP'\n",
    "mapping['bid/Q814037'] = 'Beed_MH'\n",
    "mapping['bidar_district/Q1790568'] = 'Bidar_KA'\n",
    "mapping['bijapur_district/Q1727570'] = 'Vijayapura_KA'\n",
    "mapping['bilaspur/Q100157']='Bilaspur_CT'\n",
    "mapping['bilaspur/Q1478939']= 'Bilaspur_HP'\n",
    "mapping['bishnupur/Q938190']='Bankura_WB'\n",
    "mapping['botad_district/Q14505072'] = 'Botad_GJ'\n",
    "mapping['dantewada/Q100211'] = 'Dakshin Bastar Dantewada_CT'\n",
    "mapping['debagarh/Q2269639']='Deogarh_OR'\n",
    "mapping['faizabad/Q1814132'] = 'Ayodhya_UP'\n",
    "mapping['east_karbi_anglong/Q42558']='Karbi Anglong_AS'\n",
    "mapping['hamirpur/Q2019757']= 'Hamirpur_UP'\n",
    "mapping['hamirpur/Q2086180']= 'Hamirpur_HP'\n",
    "mapping['hugli/Q548518'] = 'Hooghly_WB'\n",
    "mapping['jyotiba_phule_nagar/Q1891677'] = 'Amroha_UP'\n",
    "mapping['kheri/Q1755447']='Lakhimpur Kheri_UP'\n",
    "mapping['leh_district/Q1921210'] = 'Leh_LA'\n",
    "mapping['mahe_district/Q639279'] = 'Mahe_PY'\n",
    "mapping['mahesana_district/Q2019694']='Mehsana_GJ'\n",
    "mapping['muktsar/Q1947359']='Sri Muktsar Sahib_PB'\n",
    "mapping['palghat/Q1535742']='Palakkad_KL'\n",
    "mapping['pashchim_champaran/Q100124']='West Champaran_BR'\n",
    "mapping['pashchimi_singhbhum/Q1950527']='West Singhbhum_JH'\n",
    "mapping['pratapgarh/Q1473962']= 'Pratapgarh_UP'\n",
    "mapping['pratapgarh/Q1585433']= 'Pratapgarh_RJ'\n",
    "mapping['rae_bareilly/Q1321157']='Rae Bareli_UP'\n",
    "mapping['sahibzada_ajit_singh_nagar/Q2037672']='S.A.S. Nagar_PB'\n",
    "mapping['sant_ravidas_nagar/Q127533']='Bhadohi_UP'\n",
    "mapping['sonapur/Q1473957']='subarnapur_OR'\n",
    "mapping['ysr/Q15342']='Y.S.R. Kadapa_AP'"
   ]
  },
  {
   "cell_type": "code",
   "execution_count": null,
   "metadata": {},
   "outputs": [],
   "source": [
    "\n",
    "Nagaland=[ 'noklak/Q48731903']\n",
    "for district in Nagaland:\n",
    "    mapping[district]=\"Nagaland_NL\"\n",
    "\n",
    "Mumbai=['konkan_division/Q6268840']\n",
    "for district in Mumbai:\n",
    "    mapping[district]='Mumbai_MH'\n",
    "    \n",
    "Goa=['north_goa/Q108234','south_goa/Q108244']\n",
    "for district in Goa:\n",
    "    mapping[district]='Goa_GA' \n",
    "\n",
    "delhi=['north_delhi/Q693367','north_west_delhi/Q766125','west_delhi/Q549807','new_delhi/Q987','shahdara/Q83486','south_east_delhi/Q25553535','central_delhi/Q107941','east_delhi/Q107960','north_east_delhi/Q429329','south_delhi/Q2061938', 'south_west_delhi/Q2379189']\n",
    "for district in delhi:\n",
    "    mapping[district]='Delhi_DL' \n"
   ]
  },
  {
   "cell_type": "code",
   "execution_count": null,
   "metadata": {},
   "outputs": [],
   "source": [
    "\n",
    "Telangana=['adilabad/Q15211',  'bhadradri_kothagudem/Q28169767',  'hyderabad/Q15340',  'jagtial/Q28169780',  'jangaon/Q28170170',  'jogulamba_gadwal/Q27897618',  'kamareddy/Q27956125',  'karimnagar/Q15373',  'khammam/Q15371',  'komram_bheem/Q28170184',  'mahabubabad/Q28169761',  'mahabubnagar/Q15380',  'mancherial_district/Q28169747',  'medak/Q15386',  'medchal–malkajgiri/Q27614841',  'mulugu/Q61746006',  'nagarkurnool/Q28169773',  'nalgonda/Q15384',  'narayanpet/Q61746013',  'nirmal/Q28169750',  'nizamabad/Q15391',  'peddapalli/Q27614797',  'rajanna_sircilla/Q28172781',  'rangareddy/Q15388',  'sangareddy/Q28169753',  'siddipet/Q28169756',  'suryapet/Q28169770',  'vikarabad/Q28170173',  'wanaparthy/Q28172504',  'warangal_rural/Q28169759',  'warangal_urban/Q213077',  'yadadri_bhuvanagiri/Q28169764']\n",
    "Sikkim=['east_sikkim_district/Q1772832',  'north_sikkim_district/Q1784149',  'south_sikkim_district/Q1805051',  'west_sikkim_district/Q611357']\n",
    "Assam=['baksa/Q2360266',  'barpeta/Q41249',  'bishwanath/Q28110722',  'bongaigaon/Q42197',  'cachar/Q42209',  'charaideo/Q24039029',  'chirang/Q2574898',  'darrang/Q42461',  'dhemaji/Q42473',  'dhubri/Q42485',  'dibrugarh/Q42479',  'dima_hasao_district/Q42774',  'east_karbi_anglong/Q42558',  'goalpara/Q42522',  'golaghat/Q42517',  'hailakandi/Q42505',  'hojai/Q24699407',  'jorhat/Q42611',  'kamrup/Q2247441',  'kamrup_metropolitan/Q2464674',  'karimganj/Q42542',  'kokrajhar/Q42618',  'majuli/Q28110729',  'marigaon/Q42737',  'nagaon/Q42686',  'nalbari/Q42779',  'sivasagar/Q42768',  'sonapur/Q1473957',  'sonitpur/Q42765',  'south_salmara-mankachar/Q24907599',  'tinsukia/Q42756',  'udalguri/Q321998',  'west_karbi_anglong/Q24949218']\n",
    "Manipur=['chandel/Q2301769', 'churachandpur/Q2577281', 'imphal_east/Q1916666', 'imphal_west/Q1822188', 'jayashankar_bhupalapally/Q28169775', 'jiribam/Q28419387', 'kakching/Q28173825', 'kamjong/Q28419390', 'kangpokpi/Q28419386', 'noney/Q28419389', 'pherzawl/Q28173809', 'senapati/Q2301706', 'tamenglong/Q2301717', 'tengnoupal/Q28419388', 'thoubal/Q2086198', 'ukhrul/Q735101']\n",
    "\n",
    "for district in Sikkim:\n",
    "    mapping[district]='Sikkim_SK'\n",
    "\n",
    "for district in Assam:\n",
    "    mapping[district]='Assam_AS' \n",
    "\n",
    "for district in Telangana:\n",
    "    mapping[district]='Telangana_TN' \n",
    "\n",
    "for district in Manipur:\n",
    "    mapping[district]='Manipur_MN' \n"
   ]
  },
  {
   "cell_type": "code",
   "execution_count": null,
   "metadata": {},
   "outputs": [],
   "source": [
    "\n",
    "final_dict=dict()\n",
    "for key in graph.keys():\n",
    "        try:\n",
    "            if mapping[key] not in final_dict.keys():\n",
    "                final_dict[mapping[key]]=set()\n",
    "\n",
    "            for key_value in graph[key]:\n",
    "                try:\n",
    "                    final_dict[mapping[key]].add(mapping[key_value])\n",
    "                except:\n",
    "                    print(key_value)\n",
    "        except:\n",
    "            print(key)\n"
   ]
  },
  {
   "cell_type": "code",
   "execution_count": null,
   "metadata": {},
   "outputs": [],
   "source": [
    "\n",
    "for key in final_dict:\n",
    "    final_dict[key]=list(final_dict[key])\n"
   ]
  },
  {
   "cell_type": "code",
   "execution_count": null,
   "metadata": {},
   "outputs": [],
   "source": [
    "with open(\"neighbor-districts-modified.json\", \"w\") as f:  \n",
    "       json.dump(final_dict,f,indent=4) "
   ]
  },
  {
   "cell_type": "code",
   "execution_count": null,
   "metadata": {},
   "outputs": [],
   "source": [
    "dist_list=[]\n",
    "for key in final_dict:\n",
    "    dist_list.extend(final_dict[key])\n",
    "\n",
    "dist_list=list(set(dist_list))\n",
    "dist_list.sort()\n",
    "\n",
    "j=101\n",
    "dist_dict={}\n",
    "\n",
    "for i in dist_list:\n",
    "    dist_dict[i]=j\n",
    "    j=j+1\n",
    "    \n",
    "with open(\"mapping.json\", \"w\") as f:  \n",
    "       json.dump(dist_dict,f,indent=4) "
   ]
  }
 ],
 "metadata": {
  "kernelspec": {
   "display_name": "Python 3",
   "language": "python",
   "name": "python3"
  },
  "language_info": {
   "codemirror_mode": {
    "name": "ipython",
    "version": 3
   },
   "file_extension": ".py",
   "mimetype": "text/x-python",
   "name": "python",
   "nbconvert_exporter": "python",
   "pygments_lexer": "ipython3",
   "version": "3.7.3"
  }
 },
 "nbformat": 4,
 "nbformat_minor": 4
}
