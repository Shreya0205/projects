{
 "cells": [
  {
   "cell_type": "code",
   "execution_count": 1,
   "metadata": {},
   "outputs": [],
   "source": [
    "import pandas as pd\n",
    "from urllib.parse import unquote"
   ]
  },
  {
   "cell_type": "code",
   "execution_count": 2,
   "metadata": {},
   "outputs": [],
   "source": [
    "\n",
    "def title_parse(title):\n",
    "    title = unquote(title)\n",
    "    return title\n"
   ]
  },
  {
   "cell_type": "code",
   "execution_count": 3,
   "metadata": {},
   "outputs": [],
   "source": [
    "\n",
    "columns = ['articles']\n",
    "df = pd.read_csv('wikispeedia_paths-and-graph/articles.tsv',delimiter='\\t',encoding='UTF-8',skiprows=11,header=None,names=columns)\n",
    "df['articles']= df.articles.apply(title_parse)\n",
    "lst=list(df['articles'])\n"
   ]
  },
  {
   "cell_type": "code",
   "execution_count": 4,
   "metadata": {},
   "outputs": [],
   "source": [
    "idx=[]\n",
    "for i in range(1,4605):\n",
    "    i=str(i)\n",
    "    if len(i) == 1:\n",
    "        idx.append(\"A000\"+i)\n",
    "    elif len(i)==2:\n",
    "        idx.append(\"A00\"+i)\n",
    "    elif len(i)==3:\n",
    "        idx.append(\"A0\"+i)\n",
    "    else:\n",
    "        idx.append(\"A\"+i)"
   ]
  },
  {
   "cell_type": "code",
   "execution_count": 5,
   "metadata": {},
   "outputs": [],
   "source": [
    "df = pd.DataFrame(list(zip(lst, idx)), columns =['Art','ID']) \n",
    "df.to_csv('article-ids.csv',index=False,header=None)"
   ]
  },
  {
   "cell_type": "code",
   "execution_count": null,
   "metadata": {},
   "outputs": [],
   "source": []
  }
 ],
 "metadata": {
  "kernelspec": {
   "display_name": "Python 3",
   "language": "python",
   "name": "python3"
  },
  "language_info": {
   "codemirror_mode": {
    "name": "ipython",
    "version": 3
   },
   "file_extension": ".py",
   "mimetype": "text/x-python",
   "name": "python",
   "nbconvert_exporter": "python",
   "pygments_lexer": "ipython3",
   "version": "3.7.3"
  }
 },
 "nbformat": 4,
 "nbformat_minor": 4
}
