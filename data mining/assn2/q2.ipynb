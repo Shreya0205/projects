{
 "cells": [
  {
   "cell_type": "code",
   "execution_count": 1,
   "metadata": {},
   "outputs": [],
   "source": [
    "import pandas as pd\n",
    "from urllib.parse import unquote"
   ]
  },
  {
   "cell_type": "code",
   "execution_count": 2,
   "metadata": {},
   "outputs": [],
   "source": [
    "\n",
    "def title_parse(title):\n",
    "    title = unquote(title)\n",
    "    return title\n"
   ]
  },
  {
   "cell_type": "code",
   "execution_count": 3,
   "metadata": {},
   "outputs": [],
   "source": [
    "\n",
    "columns = ['article','category']\n",
    "df = pd.read_csv('wikispeedia_paths-and-graph/categories.tsv',delimiter='\\t',encoding='UTF-8',skiprows=12,header=None,names=columns)\n",
    "df['article']= df.article.apply(title_parse)\n",
    "\n"
   ]
  },
  {
   "cell_type": "code",
   "execution_count": 4,
   "metadata": {},
   "outputs": [],
   "source": [
    "categories=list(set(df['category']))"
   ]
  },
  {
   "cell_type": "code",
   "execution_count": 5,
   "metadata": {},
   "outputs": [],
   "source": [
    "l0=[]\n",
    "l1=[]\n",
    "l2=[]\n",
    "l3=[]\n",
    "\n",
    "for categ in categories:\n",
    "    \n",
    "    categ_split = categ.split('.')\n",
    "    temp = \"\"\n",
    "    for i in range(len(categ_split)):\n",
    "        temp = temp + \".\" + categ_split[i]\n",
    "        temp_s = temp[1:].split('.')\n",
    "            \n",
    "        if len(temp_s)==1:\n",
    "            l0.append(temp[1:])\n",
    "        elif len(temp_s)==2:\n",
    "            l1.append(temp[1:])\n",
    "        elif len(temp_s)==3:\n",
    "            l2.append(temp[1:])\n",
    "        elif len(temp_s)==4:\n",
    "            l3.append(temp[1:])\n",
    "            \n",
    "l0 =  list(set(l0))\n",
    "l2 =  list(set(l2))\n",
    "l3 =  list(set(l3))\n",
    "l1 =  list(set(l1))"
   ]
  },
  {
   "cell_type": "code",
   "execution_count": 6,
   "metadata": {},
   "outputs": [
    {
     "data": {
      "text/plain": [
       "146"
      ]
     },
     "execution_count": 6,
     "metadata": {},
     "output_type": "execute_result"
    }
   ],
   "source": [
    "l1.sort()\n",
    "l2.sort()\n",
    "l3.sort()\n",
    "lls = l0 + l1 + l2 + l3\n",
    "len(lls)"
   ]
  },
  {
   "cell_type": "code",
   "execution_count": 7,
   "metadata": {},
   "outputs": [],
   "source": [
    "idx=[]\n",
    "for i in range(1,len(lls)+1):\n",
    "    i=str(i)\n",
    "    if len(i) == 1:\n",
    "        idx.append(\"C000\"+i)\n",
    "    elif len(i)==2:\n",
    "        idx.append(\"C00\"+i)\n",
    "    elif len(i)==3:\n",
    "        idx.append(\"C0\"+i)\n",
    "    else:\n",
    "        idx.append(\"C\"+i)"
   ]
  },
  {
   "cell_type": "code",
   "execution_count": 8,
   "metadata": {},
   "outputs": [],
   "source": [
    "f=open('category-ids.csv','w')\n",
    "for i,j in zip(lls,idx):\n",
    "    f.write(str(i)+\",\"+str(j)+\"\\n\")\n",
    "f.close()"
   ]
  }
 ],
 "metadata": {
  "kernelspec": {
   "display_name": "Python 3",
   "language": "python",
   "name": "python3"
  },
  "language_info": {
   "codemirror_mode": {
    "name": "ipython",
    "version": 3
   },
   "file_extension": ".py",
   "mimetype": "text/x-python",
   "name": "python",
   "nbconvert_exporter": "python",
   "pygments_lexer": "ipython3",
   "version": "3.7.3"
  }
 },
 "nbformat": 4,
 "nbformat_minor": 4
}
