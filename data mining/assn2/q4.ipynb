{
 "cells": [
  {
   "cell_type": "code",
   "execution_count": 1,
   "metadata": {},
   "outputs": [],
   "source": [
    "import pandas as pd\n",
    "from urllib.parse import unquote"
   ]
  },
  {
   "cell_type": "code",
   "execution_count": 2,
   "metadata": {},
   "outputs": [],
   "source": [
    "\n",
    "def title_parse(title):\n",
    "    title = unquote(title)\n",
    "    return title\n"
   ]
  },
  {
   "cell_type": "code",
   "execution_count": 3,
   "metadata": {},
   "outputs": [
    {
     "data": {
      "text/html": [
       "<div>\n",
       "<style scoped>\n",
       "    .dataframe tbody tr th:only-of-type {\n",
       "        vertical-align: middle;\n",
       "    }\n",
       "\n",
       "    .dataframe tbody tr th {\n",
       "        vertical-align: top;\n",
       "    }\n",
       "\n",
       "    .dataframe thead th {\n",
       "        text-align: right;\n",
       "    }\n",
       "</style>\n",
       "<table border=\"1\" class=\"dataframe\">\n",
       "  <thead>\n",
       "    <tr style=\"text-align: right;\">\n",
       "      <th></th>\n",
       "      <th>article</th>\n",
       "      <th>ID</th>\n",
       "    </tr>\n",
       "  </thead>\n",
       "  <tbody>\n",
       "    <tr>\n",
       "      <th>0</th>\n",
       "      <td>Áedán_mac_Gabráin</td>\n",
       "      <td>A0001</td>\n",
       "    </tr>\n",
       "    <tr>\n",
       "      <th>1</th>\n",
       "      <td>Åland</td>\n",
       "      <td>A0002</td>\n",
       "    </tr>\n",
       "    <tr>\n",
       "      <th>2</th>\n",
       "      <td>Édouard_Manet</td>\n",
       "      <td>A0003</td>\n",
       "    </tr>\n",
       "    <tr>\n",
       "      <th>3</th>\n",
       "      <td>Éire</td>\n",
       "      <td>A0004</td>\n",
       "    </tr>\n",
       "    <tr>\n",
       "      <th>4</th>\n",
       "      <td>Óengus_I_of_the_Picts</td>\n",
       "      <td>A0005</td>\n",
       "    </tr>\n",
       "    <tr>\n",
       "      <th>...</th>\n",
       "      <td>...</td>\n",
       "      <td>...</td>\n",
       "    </tr>\n",
       "    <tr>\n",
       "      <th>4599</th>\n",
       "      <td>Zionism</td>\n",
       "      <td>A4600</td>\n",
       "    </tr>\n",
       "    <tr>\n",
       "      <th>4600</th>\n",
       "      <td>Zirconium</td>\n",
       "      <td>A4601</td>\n",
       "    </tr>\n",
       "    <tr>\n",
       "      <th>4601</th>\n",
       "      <td>Zoroaster</td>\n",
       "      <td>A4602</td>\n",
       "    </tr>\n",
       "    <tr>\n",
       "      <th>4602</th>\n",
       "      <td>Zuid-Gelders</td>\n",
       "      <td>A4603</td>\n",
       "    </tr>\n",
       "    <tr>\n",
       "      <th>4603</th>\n",
       "      <td>Zulu</td>\n",
       "      <td>A4604</td>\n",
       "    </tr>\n",
       "  </tbody>\n",
       "</table>\n",
       "<p>4604 rows × 2 columns</p>\n",
       "</div>"
      ],
      "text/plain": [
       "                    article     ID\n",
       "0         Áedán_mac_Gabráin  A0001\n",
       "1                     Åland  A0002\n",
       "2             Édouard_Manet  A0003\n",
       "3                      Éire  A0004\n",
       "4     Óengus_I_of_the_Picts  A0005\n",
       "...                     ...    ...\n",
       "4599                Zionism  A4600\n",
       "4600              Zirconium  A4601\n",
       "4601              Zoroaster  A4602\n",
       "4602           Zuid-Gelders  A4603\n",
       "4603                   Zulu  A4604\n",
       "\n",
       "[4604 rows x 2 columns]"
      ]
     },
     "execution_count": 3,
     "metadata": {},
     "output_type": "execute_result"
    }
   ],
   "source": [
    "columns = ['article','ID']\n",
    "df = pd.read_csv('article-ids.csv',names=columns)\n",
    "df['article']= df.article.apply(title_parse)\n",
    "df\n"
   ]
  },
  {
   "cell_type": "code",
   "execution_count": 4,
   "metadata": {},
   "outputs": [],
   "source": [
    "\n",
    "i=1\n",
    "from_list=[]\n",
    "to_list=[]\n",
    "\n",
    "with open('wikispeedia_paths-and-graph/shortest-path-distance-matrix.txt') as f:\n",
    "    \n",
    "    for _ in range(17):\n",
    "        next(f)\n",
    "    \n",
    "    for line in f:\n",
    "        \n",
    "        i_=str(i)\n",
    "        if len(i_) == 1:\n",
    "            i_ = (\"A000\"+i_)\n",
    "        elif len(i_)==2:\n",
    "            i_ = (\"A00\"+i_)\n",
    "        elif len(i_)==3:\n",
    "            i_ = (\"A0\"+i_)\n",
    "        else:\n",
    "            i_ = (\"A\"+i_)\n",
    "                    \n",
    "        for to_ in range(len(line)-1):\n",
    "            \n",
    "            \n",
    "            if line[to_]==str(1):\n",
    "                \n",
    "                #print(line[to_])\n",
    "                from_list.append(i_)   \n",
    "                to = str(to_+1)\n",
    "                if len(to) == 1:\n",
    "                    to_list.append(\"A000\"+to)\n",
    "                elif len(to)==2:\n",
    "                    to_list.append(\"A00\"+to)\n",
    "                elif len(to)==3:\n",
    "                    to_list.append(\"A0\"+to)\n",
    "                else:\n",
    "                    to_list.append(\"A\"+to)\n",
    "              \n",
    "                \n",
    "        i=i+1"
   ]
  },
  {
   "cell_type": "code",
   "execution_count": 5,
   "metadata": {},
   "outputs": [
    {
     "data": {
      "text/plain": [
       "119772"
      ]
     },
     "execution_count": 5,
     "metadata": {},
     "output_type": "execute_result"
    }
   ],
   "source": [
    "len(from_list)"
   ]
  },
  {
   "cell_type": "code",
   "execution_count": 6,
   "metadata": {},
   "outputs": [],
   "source": [
    "df = pd.DataFrame(list(zip(from_list, to_list)), columns =['From', 'To']) "
   ]
  },
  {
   "cell_type": "code",
   "execution_count": 7,
   "metadata": {},
   "outputs": [],
   "source": [
    "df.to_csv('edges.csv',index=False,header=None)"
   ]
  }
 ],
 "metadata": {
  "kernelspec": {
   "display_name": "Python 3",
   "language": "python",
   "name": "python3"
  },
  "language_info": {
   "codemirror_mode": {
    "name": "ipython",
    "version": 3
   },
   "file_extension": ".py",
   "mimetype": "text/x-python",
   "name": "python",
   "nbconvert_exporter": "python",
   "pygments_lexer": "ipython3",
   "version": "3.7.3"
  }
 },
 "nbformat": 4,
 "nbformat_minor": 4
}
