{
 "cells": [
  {
   "cell_type": "code",
   "execution_count": 1,
   "metadata": {},
   "outputs": [],
   "source": [
    "import pandas as pd\n",
    "import math"
   ]
  },
  {
   "cell_type": "code",
   "execution_count": 2,
   "metadata": {},
   "outputs": [],
   "source": [
    "\n",
    "def percent_cal(filename, outfilename):\n",
    "    \n",
    "    columns =['human_path', 'shortest_path', 'ratio']\n",
    "    df = pd.read_csv(filename,names=columns)\n",
    "    \n",
    "    path=[0,0,0,0,0,0,0,0,0,0,0,0]\n",
    "\n",
    "    for index, row in df.iterrows():\n",
    "\n",
    "        path_human = row['human_path']\n",
    "        path_shortest = row['shortest_path']\n",
    "\n",
    "        if path_shortest==math.inf or int(path_human)-int(path_shortest)>10:\n",
    "            path[11]=path[11]+1\n",
    "        else:\n",
    "            path[int(path_human)-int(path_shortest)]=path[int(path_human)-int(path_shortest)]+1\n",
    "    \n",
    "    newPath = [(i/len(df))*100 for i in path]\n",
    "    \n",
    "    newPath = [str(i) for i in newPath]\n",
    "    print(newPath)\n",
    "    with open(outfilename, 'w') as outfile:\n",
    "        outfile.write(','.join(newPath) + '\\n')\n",
    "    "
   ]
  },
  {
   "cell_type": "code",
   "execution_count": 3,
   "metadata": {},
   "outputs": [
    {
     "name": "stdout",
     "output_type": "stream",
     "text": [
      "['19.985190381542537', '23.773334892240538', '17.835847071203087', '12.001636852566351', '7.928991776764488', '5.087883393740988', '3.4276472192992715', '2.3714875872013716', '1.631006664328306', '1.1906153786195877', '0.8944230094703612', '3.871935773023111']\n",
      "['22.38785611286488', '27.982384348571653', '20.028060329708875', '12.126349429050236', '6.980007015082427', '3.815425386803851', '2.2487236447250476', '1.3231224911337154', '0.8535016953115865', '0.58459020226821', '0.44233991971627895', '1.227639424763241']\n"
     ]
    }
   ],
   "source": [
    "percent_cal('finished-paths-back.csv','percentage-paths-back.csv')\n",
    "percent_cal('finished-paths-no-back.csv','percentage-paths-no-back.csv')"
   ]
  }
 ],
 "metadata": {
  "kernelspec": {
   "display_name": "Python 3",
   "language": "python",
   "name": "python3"
  },
  "language_info": {
   "codemirror_mode": {
    "name": "ipython",
    "version": 3
   },
   "file_extension": ".py",
   "mimetype": "text/x-python",
   "name": "python",
   "nbconvert_exporter": "python",
   "pygments_lexer": "ipython3",
   "version": "3.7.3"
  }
 },
 "nbformat": 4,
 "nbformat_minor": 4
}
